{
  "nbformat": 4,
  "nbformat_minor": 0,
  "metadata": {
    "colab": {
      "name": "Untitled3.ipynb",
      "provenance": [],
      "toc_visible": true
    },
    "kernelspec": {
      "display_name": "Python 3",
      "name": "python3"
    },
    "language_info": {
      "name": "python"
    }
  },
  "cells": [
    {
      "cell_type": "code",
      "metadata": {
        "colab": {
          "base_uri": "https://localhost:8080/"
        },
        "id": "_l5YFlaljYZH",
        "outputId": "ef0b2a26-966c-47e2-dd7e-b9f7726754a2"
      },
      "source": [
        "import requests\n",
        " \n",
        "from datetime import datetime\n",
        " \n",
        "api_key='d3ed7b066665ecf09be380f56527d364'\n",
        "#d3ed7b066665ecf09be380f56527d364\n",
        " \n",
        "location=input(\"Enter the city name:\")\n",
        " \n",
        "complete_api_link=\"https://api.openweathermap.org/data/2.5/weather?q=\"+location+\"&appid=\"+api_key\n",
        " \n",
        "api_link=requests.get(complete_api_link)\n",
        "api_data=api_link.json()\n",
        " \n",
        "#create variables to store and display data\n",
        "temp_city=((api_data['main']['temp'])-273.15)\n",
        "weather_desc=api_data['weather'][0]['description']\n",
        "hmdt=api_data['main']['humidity']\n",
        "Wind_spd=api_data['wind']['speed']\n",
        "date_time=datetime.now().strftime(\"%d %b %Y | %I:%M:%S %p\")\n",
        " \n",
        "print(\"-----------------------------------------------------\")\n",
        "print(\"Weather Stats for - {} || {}\".format(location.upper(),date_time))\n",
        "print(\"-----------------------------------------------------\")\n",
        " \n",
        " \n",
        "print (\"Current temperature is : {:.2f} deg C\".format(temp_city))\n",
        "print(\"Current weather desc :\",weather_desc)\n",
        "print(\"current Humidity     :\",hmdt,'%')\n",
        "print(\"Current wind speed   :\",Wind_spd,'kmph')\n",
        " \n",
        " \n",
        " \n",
        "text_file=open(\"record.txt\",\"w\")\n",
        "text_file.write(\"temperature:\"+str(temp_city)+\"\\n\")\n",
        "text_file.write(\"weather_dec:\"+str(weather_desc)+\"\\n\")\n",
        "text_file.write(\"Humidity:\"+str(hmdt)+\"\\n\")\n",
        "text_file.write(\"wind_spd:\"+str(Wind_spd)+\"\\n\")\n",
        "text_file.write(\"date_time:\"+str(date_time)+\"\\n\")\n",
        " \n",
        " \n",
        "text_file.close()\n",
        "text_file=open(\"record.txt\",\"r\")\n",
        "print(\"\\noutput after inserting wheather data\\n\")\n",
        "print(text_file.read())\n",
        "print()\n",
        "text_file.close()"
      ],
      "execution_count": 2,
      "outputs": [
        {
          "output_type": "stream",
          "text": [
            "Enter the city name:bhopal\n",
            "-----------------------------------------------------\n",
            "Weather Stats for - BHOPAL || 22 Jun 2021 | 08:23:39 AM\n",
            "-----------------------------------------------------\n",
            "Current temperature is : 32.13 deg C\n",
            "Current weather desc : haze\n",
            "current Humidity     : 62 %\n",
            "Current wind speed   : 5.14 kmph\n",
            "\n",
            "output after inserting wheather data\n",
            "\n",
            "temperature:32.129999999999995\n",
            "weather_dec:haze\n",
            "Humidity:62\n",
            "wind_spd:5.14\n",
            "date_time:22 Jun 2021 | 08:23:39 AM\n",
            "\n",
            "\n"
          ],
          "name": "stdout"
        }
      ]
    }
  ]
}